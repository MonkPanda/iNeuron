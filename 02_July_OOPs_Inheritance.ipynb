{
 "cells": [
  {
   "cell_type": "markdown",
   "id": "c62febb1",
   "metadata": {},
   "source": [
    "# July 02 Assignemnt"
   ]
  },
  {
   "cell_type": "code",
   "execution_count": null,
   "id": "76d68491",
   "metadata": {},
   "outputs": [],
   "source": [
    "\"\"\"1. Explain what inheritance is in object-oriented programming and why it is used. \"\"\"\n",
    "\n",
    "Inheritance is a concept where properties, methods of an existing class(parent class) can \n",
    "be extended to a new class(child class).\n",
    "\n",
    "Key benefit is to increase the code reusability and reduce redundant coding apart from other benefits."
   ]
  },
  {
   "cell_type": "code",
   "execution_count": null,
   "id": "c68b9dea",
   "metadata": {},
   "outputs": [],
   "source": []
  },
  {
   "cell_type": "code",
   "execution_count": null,
   "id": "37d00b53",
   "metadata": {},
   "outputs": [],
   "source": [
    "\"\"\"Discuss the concept of single inheritance and multiple inheritance, highlighting their differences and advantages. \n",
    "\"\"\"\n",
    "\n",
    "Single inheritance is where the child class has only one immediate parent class and 1to1 relationship. \n",
    "In multiple inheritance, a child class has multiple parent class and has 1to many relationship. \n",
    "\n",
    "When use case requires a child class to access multiple parent class features, multiple inheritance becomes\n",
    "superior over single inheritance which is useful in more linear relationship use cases. \n"
   ]
  },
  {
   "cell_type": "code",
   "execution_count": null,
   "id": "83126343",
   "metadata": {},
   "outputs": [],
   "source": []
  },
  {
   "cell_type": "code",
   "execution_count": null,
   "id": "ad36d7fe",
   "metadata": {},
   "outputs": [],
   "source": [
    "\"\"\"Explain the terms \"base class\" and \"derived class\" in the context of inheritance. \"\"\""
   ]
  },
  {
   "cell_type": "code",
   "execution_count": null,
   "id": "6cef1f8c",
   "metadata": {},
   "outputs": [],
   "source": [
    "Base class: it is the class which gets inhherited from an existing class. \n",
    "\n",
    "Derived class: It is the class which inherits an existing class(base class) class."
   ]
  },
  {
   "cell_type": "code",
   "execution_count": null,
   "id": "63172258",
   "metadata": {},
   "outputs": [],
   "source": [
    "\"\"\"What is the significance of the \"protected\" access modifier in inheritance? How does it differ from \"private\" and \"public\" modifiers? \"\"\"\n",
    "\n",
    "Private modifier is used when an attribute or a method are not to be accessed outside the the class itself. \n",
    "Subclass are also not allowed to access the private attributes and methods as well. Usually they are denoted\n",
    "with double underscore(__attribute/method name). \n",
    "\n",
    "Whereas, protected access modifier means that attribute and methods are only accessible within the class and \n",
    "its subclass and by no one else.\n",
    "\n",
    "And Public access modifiers means the public attributes and methods are accessible by any one from anywhere in\n",
    "the python program. "
   ]
  },
  {
   "cell_type": "code",
   "execution_count": null,
   "id": "2811674e",
   "metadata": {},
   "outputs": [],
   "source": []
  },
  {
   "cell_type": "code",
   "execution_count": null,
   "id": "7a90f144",
   "metadata": {},
   "outputs": [],
   "source": [
    "\"\"\"What is the purpose of the \"super\" keyword in inheritance? Provide an example. \n",
    "\"\"\"\n",
    "Super function is used to access the parent class methods in its child classes and to call the\n",
    "parent class constructor in the child class. \n",
    "\n",
    "Ex:\n",
    "    class Parent:\n",
    "        def __init__(self,Name):\n",
    "            self.name=name\n",
    "        \n",
    "        def add(a,b):\n",
    "            return a+b\n",
    "        \n",
    "        \n",
    "    \n",
    "    #parent __init__/ constructor call via super\n",
    "    class child(Parent):\n",
    "         def __init__(self,Name, value):\n",
    "            super().__init__(name)\n",
    "            self.value=value\n",
    "        \n",
    "    \n",
    "    add_result=super().add()\n",
    "    "
   ]
  },
  {
   "cell_type": "code",
   "execution_count": null,
   "id": "10a03fe5",
   "metadata": {},
   "outputs": [],
   "source": []
  },
  {
   "cell_type": "code",
   "execution_count": 3,
   "id": "593cf291",
   "metadata": {},
   "outputs": [
    {
     "name": "stdout",
     "output_type": "stream",
     "text": [
      "2022 Toyota Camry, Fuel type: Gasoline\n"
     ]
    }
   ],
   "source": [
    "\"\"\"Create a base class called \"Vehicle\" with attributes like \"make\", \"model\", and \"year\". Then, create a derived class called \"Car\" that inherits from \"Vehicle\" and adds an attribute called \"fuel_type\". Implement appropriate methods in both classes. \n",
    "\"\"\"\n",
    "#Base class\n",
    "class Vehicle:\n",
    "    def __init__(self, make, model, year):\n",
    "        self.make = make\n",
    "        self.model = model\n",
    "        self.year = year\n",
    "\n",
    "    def display_info(self):\n",
    "        return f\"{self.year} {self.make} {self.model}\"\n",
    "    \n",
    "    \n",
    "#child class\n",
    "class Car(Vehicle):\n",
    "    def __init__(self, make, model, year, fuel_type):\n",
    "        super().__init__(make, model, year)\n",
    "        self.fuel_type = fuel_type\n",
    "\n",
    "    def display_info(self):\n",
    "        base_info = super().display_info()\n",
    "        return f\"{base_info}, Fuel type: {self.fuel_type}\"\n",
    "    \n",
    "\n",
    "# object creation\n",
    "car = Car(\"Toyota\", \"Camry\", 2022, \"Gasoline\")\n",
    "print(car.display_info())\n",
    "    \n"
   ]
  },
  {
   "cell_type": "code",
   "execution_count": null,
   "id": "e8782b12",
   "metadata": {},
   "outputs": [],
   "source": []
  },
  {
   "cell_type": "code",
   "execution_count": 12,
   "id": "6c5db571",
   "metadata": {},
   "outputs": [
    {
     "name": "stdout",
     "output_type": "stream",
     "text": [
      "Rajesh 20000, department: HR\n",
      "Dinesh 120000, programming language: Tech\n"
     ]
    }
   ],
   "source": [
    "\"\"\"Create a base class called \"Employee\" with attributes like \"name\" and \"salary.\" Derive two classes,\n",
    "\"Manager\" and \"Developer,\" from \"Employee.\" Add an additional attribute called \"department\" for the \"Manager\"\n",
    "class and \"programming_language\" for the \"Developer\" class. \n",
    "\"\"\"\n",
    "\n",
    "#employee class\n",
    "class Employee:\n",
    "    def __init__(self, name, salary):\n",
    "        self.name = name\n",
    "        self.salary = salary\n",
    "\n",
    "    def display_info(self):\n",
    "        return f\"{self.name} {self.salary}\"\n",
    "    \n",
    "    \n",
    "#manager class\n",
    "class Manager(Employee):\n",
    "    def __init__(self, name, salary, department):\n",
    "        super().__init__(name, salary)\n",
    "        self.department = department\n",
    "\n",
    "    def display_info(self):\n",
    "        base_info = super().display_info()\n",
    "\n",
    "        return f\"{base_info}, department: {self.department}\"\n",
    "\n",
    "#Developer class    \n",
    "class Developer(Employee):\n",
    "    def __init__(self, name, salary, programming_language):\n",
    "        super().__init__(name, salary)\n",
    "        self.programming_language = programming_language\n",
    "\n",
    "    def display_info(self):\n",
    "        base_info = super().display_info()\n",
    "        return f\"{base_info}, programming language: {self.programming_language}\"\n",
    "\n",
    "# Creating an instance of Car\n",
    "manager = Manager(\"Rajesh\",20000, \"HR\")\n",
    "print(manager.display_info())\n",
    "developer = Developer(\"Dinesh\",120000, \"Tech\")\n",
    "print(developer.display_info())\n",
    "\n",
    "\n"
   ]
  },
  {
   "cell_type": "code",
   "execution_count": null,
   "id": "a8683ace",
   "metadata": {},
   "outputs": [],
   "source": []
  },
  {
   "cell_type": "code",
   "execution_count": 31,
   "id": "490d3769",
   "metadata": {},
   "outputs": [
    {
     "name": "stdout",
     "output_type": "stream",
     "text": [
      "The colour is red and has border width of 2 and has length 10 and width 5\n",
      "The colour is Blue and has border width of 2 and has radius 6\n"
     ]
    }
   ],
   "source": [
    "\"\"\"Design a base class called \"Shape\" with attributes like \"colour\" and \"border_width.\"\n",
    "Create derived classes, \"Rectangle\" and \"Circle,\" that inherit from \"Shape\" and \n",
    "add specific attributes like \"length\" and \"width\" for the \"Rectangle\" class and\n",
    "\"radius\" for the \"Circle\" class. \n",
    "\"\"\"\n",
    "\n",
    "class Shape:\n",
    "    def __init__(self, colour, border_width):\n",
    "        self.colour=colour\n",
    "        self.border_width=border_width\n",
    "    \n",
    "    def info(self):\n",
    "        return f\"The colour is {self.colour} and has border width of {self.border_width}\"\n",
    "        \n",
    "class Rectangle(Shape):\n",
    "    def __init__(self,colour, border_width, length,width):\n",
    "        super().__init__(colour, border_width)\n",
    "        self.length=length\n",
    "        self.width=width\n",
    "    \n",
    "    def info(self):\n",
    "        return f\"The colour is {self.colour} and has border width of {self.border_width} and has length {self.length} and width {self.width}\"\n",
    "\n",
    "class Circle(Shape):\n",
    "    def __init__(self,colour, border_width, radius):\n",
    "        super().__init__(colour, border_width)\n",
    "        self.radius=radius\n",
    "    \n",
    "    def info(self):\n",
    "        return f\"The colour is {self.colour} and has border width of {self.border_width} and has radius {self.radius}\"\n",
    "\n",
    "        \n",
    "#object rectangle\n",
    "rectangle=Rectangle(\"red\",2,10,5)\n",
    "print(rectangle.info())\n",
    "\n",
    "#Object circle\n",
    "circle=Circle(\"Blue\",2,6)\n",
    "print(circle.info())\n"
   ]
  },
  {
   "cell_type": "code",
   "execution_count": null,
   "id": "125b2bf1",
   "metadata": {},
   "outputs": [],
   "source": []
  },
  {
   "cell_type": "code",
   "execution_count": 32,
   "id": "1017f815",
   "metadata": {},
   "outputs": [
    {
     "name": "stdout",
     "output_type": "stream",
     "text": [
      "The brand is red and model is M1 and screen size is 10\n",
      "The brand is Blue and model is M3 and battery capacity is 600mah\n"
     ]
    }
   ],
   "source": [
    "\"\"\"Create a base class called \"Device\" with attributes like \"brand\" and \"model.\" Derive two classes,\n",
    "\"Phone\" and \"Tablet,\" from \"Device.\" Add specific attributes like \n",
    "\"screen_size\" for the \"Phone\" class and \"battery_capacity\" for the \"Tablet\" class. \n",
    "\"\"\"\n",
    "\n",
    "class Device:\n",
    "    def __init__(self, brand, model):\n",
    "        self.brand=brand\n",
    "        self.model=model\n",
    "    \n",
    "    def info(self):\n",
    "        return f\"The brand is {self.brand} and model is {self.model}\"\n",
    "        \n",
    "class Phone(Device):\n",
    "    def __init__(self, brand, model, screen_size):\n",
    "        super().__init__(brand, model)\n",
    "        self.screen_size=screen_size\n",
    "    \n",
    "    def info(self):\n",
    "        return f\"The brand is {self.brand} and model is {self.model} and screen size is {self.screen_size}\"\n",
    "\n",
    "class Tablet(Device):\n",
    "    def __init__(self, brand, model, battery_capacity):\n",
    "        super().__init__(brand, model)\n",
    "        self.battery_capacity=battery_capacity\n",
    "    \n",
    "    def info(self):\n",
    "        return f\"The brand is {self.brand} and model is {self.model} and battery capacity is {self.battery_capacity}\"\n",
    "\n",
    "        \n",
    "#object phone\n",
    "phone=Phone(\"red\",\"M1\",10)\n",
    "print(phone.info())\n",
    "\n",
    "#Object tablet\n",
    "tablet=Tablet(\"Blue\",\"M3\",\"600mah\")\n",
    "print(tablet.info())\n",
    "\n"
   ]
  },
  {
   "cell_type": "code",
   "execution_count": null,
   "id": "83412ce6",
   "metadata": {},
   "outputs": [],
   "source": []
  },
  {
   "cell_type": "code",
   "execution_count": 42,
   "id": "0184f716",
   "metadata": {},
   "outputs": [
    {
     "name": "stdout",
     "output_type": "stream",
     "text": [
      "Interest amount: 1100.0\n",
      "Balance amount: 9500\n"
     ]
    }
   ],
   "source": [
    "\"\"\"Create a base class called \"BankAccount\" with attributes like \"account_number\" and \"balance.\" \n",
    "Derive two classes, \"SavingsAccount\" and \"CheckingAccount,\" from \"BankAccount.\" Add specific methods\n",
    "like \"calculate_interest\" for the \n",
    "\"SavingsAccount\" class and \"deduct_fees\" for the \"CheckingAccount\" class. \n",
    "\"\"\"\n",
    "\n",
    "class BankAccount:\n",
    "    def __init__(self, account_number,balance):\n",
    "        self.account_number=account_number\n",
    "        self.balance=balance\n",
    "    \n",
    "    def info(self):\n",
    "        return f\"The account number {self.account_number} and balance is {self.balance}\"\n",
    "    \n",
    "#Savings account class\n",
    "class SavingsAccount(BankAccount):\n",
    "    def __init__(self,account_number, balance, rate, time):\n",
    "        super().__init__(account_number, balance)\n",
    "        self.rate=rate\n",
    "        self.time=time\n",
    "    \n",
    "    def interest(self):\n",
    "        \n",
    "        interest_amount= (1+self.rate*self.time)*self.balance/100\n",
    "        return f\"Interest amount: {interest_amount}\"\n",
    "\n",
    "#Checking account class\n",
    "class CheckingAccount(BankAccount):\n",
    "    def __init__(self,account_number, balance, debit):\n",
    "        super().__init__(account_number, balance)\n",
    "        self.debit=debit\n",
    "    \n",
    "    def deduct_fees(self):\n",
    "        \n",
    "        Remaing_amount= (self.balance-self.debit)\n",
    "        return f\"Balance amount: {Remaing_amount}\"\n",
    "\n",
    "#SavingsAccount object\n",
    "savingsAmount=SavingsAccount(\"A12\",10000,5,2)\n",
    "print(\"\"+savingsAmount.interest())\n",
    "\n",
    "#CheckingAccount object\n",
    "checkingAccount=CheckingAccount(\"A22\",10000,500)\n",
    "print(\"\"+checkingAccount.deduct_fees())\n"
   ]
  },
  {
   "cell_type": "code",
   "execution_count": null,
   "id": "b74064d1",
   "metadata": {},
   "outputs": [],
   "source": []
  }
 ],
 "metadata": {
  "kernelspec": {
   "display_name": "Python 3 (ipykernel)",
   "language": "python",
   "name": "python3"
  },
  "language_info": {
   "codemirror_mode": {
    "name": "ipython",
    "version": 3
   },
   "file_extension": ".py",
   "mimetype": "text/x-python",
   "name": "python",
   "nbconvert_exporter": "python",
   "pygments_lexer": "ipython3",
   "version": "3.10.9"
  },
  "toc": {
   "base_numbering": 1,
   "nav_menu": {},
   "number_sections": true,
   "sideBar": true,
   "skip_h1_title": false,
   "title_cell": "Table of Contents",
   "title_sidebar": "Contents",
   "toc_cell": false,
   "toc_position": {},
   "toc_section_display": true,
   "toc_window_display": false
  }
 },
 "nbformat": 4,
 "nbformat_minor": 5
}
