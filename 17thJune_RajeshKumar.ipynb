{
 "cells": [
  {
   "cell_type": "code",
   "execution_count": null,
   "id": "129ac902",
   "metadata": {},
   "outputs": [],
   "source": [
    "\"\"\"1. What is the role of try and exception block?\n",
    "\"\"\"\n",
    "Try-exception block are used to handle the code block where some unexpected exception can be thrown by python\n",
    "depending on different reasons which are not allowed in python. Try catch blocks are sued to ensure that program\n",
    "execution does not occur due to these defined exception types.\n",
    "\n",
    "try block covers the code block which can create the exception dueing program execution while exception block is\n",
    "used to defined the action when that exception is caught...it could be a message or another block of code that \n",
    "can be executed in execption block. \n"
   ]
  },
  {
   "cell_type": "code",
   "execution_count": 4,
   "id": "12943642",
   "metadata": {},
   "outputs": [
    {
     "name": "stdout",
     "output_type": "stream",
     "text": [
      "Division by zero not allowed\n"
     ]
    }
   ],
   "source": [
    "\"\"\"2. What is the syntax for a basic try-except block?\n",
    "\"\"\"\n",
    "try:\n",
    "    result=10/0\n",
    "except ZeroDivisionError:\n",
    "    print(\"Division by zero not allowed\")\n",
    "    \n"
   ]
  },
  {
   "cell_type": "code",
   "execution_count": 5,
   "id": "9aacf008",
   "metadata": {},
   "outputs": [
    {
     "ename": "ZeroDivisionError",
     "evalue": "division by zero",
     "output_type": "error",
     "traceback": [
      "\u001b[0;31m---------------------------------------------------------------------------\u001b[0m",
      "\u001b[0;31mZeroDivisionError\u001b[0m                         Traceback (most recent call last)",
      "Cell \u001b[0;32mIn[5], line 10\u001b[0m\n\u001b[1;32m      7\u001b[0m \u001b[38;5;66;03m#Ex: \u001b[39;00m\n\u001b[1;32m      9\u001b[0m \u001b[38;5;28;01mtry\u001b[39;00m:\n\u001b[0;32m---> 10\u001b[0m     result\u001b[38;5;241m=\u001b[39m\u001b[38;5;241;43m10\u001b[39;49m\u001b[38;5;241;43m/\u001b[39;49m\u001b[38;5;241;43m0\u001b[39;49m\n\u001b[1;32m     12\u001b[0m \u001b[38;5;28;01mexcept\u001b[39;00m \u001b[38;5;167;01mValueError\u001b[39;00m:\n\u001b[1;32m     13\u001b[0m     \u001b[38;5;28mprint\u001b[39m(\u001b[38;5;124m\"\u001b[39m\u001b[38;5;124mDivision by zero not allowed\u001b[39m\u001b[38;5;124m\"\u001b[39m)\n",
      "\u001b[0;31mZeroDivisionError\u001b[0m: division by zero"
     ]
    }
   ],
   "source": [
    "\"\"\" What happens if an exception occurs inside a try block and there is no matching\n",
    "except block?\n",
    "\n",
    "Answer: If appropriate except block is not found for an exception then that exception will be thrown as an error and the \n",
    "execution will get terminated. \n",
    "\"\"\"\n",
    "#Ex: \n",
    "\n",
    "try:\n",
    "    result=10/0\n",
    "    \n",
    "except ValueError:     #Division by zero exception will not be caught here\n",
    "    print(\"Division by zero not allowed\")\n",
    "    "
   ]
  },
  {
   "cell_type": "code",
   "execution_count": null,
   "id": "9c58cd78",
   "metadata": {},
   "outputs": [],
   "source": [
    "\"\"\"\n",
    "4. What is the difference between using a bare except block and specifying a specific\n",
    "exception type?\"\"\"\n",
    "\n",
    "\n",
    "Using a bare except block catches all exceptions but can make debugging harder.\n",
    "\n",
    "Specifying a specific exception type in an except block provides more focused error handling and is considered \n",
    "better practice for maintaining code clarity."
   ]
  },
  {
   "cell_type": "code",
   "execution_count": 12,
   "id": "f0dbad05",
   "metadata": {},
   "outputs": [
    {
     "name": "stdout",
     "output_type": "stream",
     "text": [
      "Enter number1: 10\n",
      "Enter number2: d\n",
      "Invalid input!\n"
     ]
    }
   ],
   "source": [
    "\"\"\"5. Can you have nested try-except blocks in Python? If yes, then give an example.\n",
    "\n",
    "Yes it can have depending upon the exception possibilities in the code. \"\"\"\n",
    "\n",
    "#ex: \n",
    "#Here, both numbers are expected to be numbers. \n",
    "\n",
    "try:\n",
    "    num1 = int(input(\"Enter number1: \"))\n",
    "    try:\n",
    "        num2 = int(input(\"Enter number2: \"))\n",
    "        result = num1 / num2\n",
    "    except ZeroDivisionError:\n",
    "        print(\"division by zero\")\n",
    "except ValueError:\n",
    "    print(\"Invalid input!\")\n"
   ]
  },
  {
   "cell_type": "code",
   "execution_count": null,
   "id": "d849eda7",
   "metadata": {},
   "outputs": [],
   "source": [
    "\"\"\"6. Can we use multiple exception blocks, if yes then give an example.\n",
    "\n",
    "Answer: Depending upon what all different types of excpetion we are expecting from the try block we \n",
    "can have multiple exception blcoks. \n",
    "\n",
    "\"\"\"\n",
    "#Ex:\n",
    "try:\n",
    "    num = int(input(\"Enter number2: \"))\n",
    "    result = 100 / num\n",
    "except ValueError:\n",
    "    print(\"Invalid input!\")\n",
    "except ZeroDivisionError:\n",
    "    print(\"Inner division by zero\")\n"
   ]
  },
  {
   "cell_type": "code",
   "execution_count": null,
   "id": "3283be33",
   "metadata": {},
   "outputs": [],
   "source": [
    "7. Write the reason due to which following errors are raised:\n",
    "    \n",
    "a. EOFError - Raised when an input operation reaches the end of the file.\n",
    "b. FloatingPointError - Raised when a floating-point operation fails due to certain arithmetic conditions, such as division by zero or an overflow.\n",
    "c. IndexError - When trying to access an index that does not exist in the data structure. \n",
    "d. MemoryError - Raised when an operation runs out of memory.\n",
    "e. OverflowError - Raised when an arithmetic operation exceeds the limits of the data type, resulting in an overflow.\n",
    "f. TabError -Raised when inconsistent use of tabs and spaces in the indentation of code blocks is detected.\n",
    "g. ValueError -Raised when a function receives an argument of the correct data type but with an inappropriate value."
   ]
  },
  {
   "cell_type": "code",
   "execution_count": null,
   "id": "8ca8e314",
   "metadata": {},
   "outputs": [],
   "source": [
    "\"\"\"8. Write code for the following given scenario and add try-exception block to it.\"\"\"\n",
    "\n",
    "\"\"\"a. Program to divide two numbers\"\"\"\n",
    "\n",
    "try:\n",
    "    res=10/\"2\"\n",
    "except ValueError:\n",
    "    print(\"Invalid input!\")\n",
    "except ZeroDivisionError:\n",
    "    print(\"Inner division by zero\")\n",
    "\n",
    "\"\"\"b. Program to convert a string to an integer\"\"\"\n",
    "\n",
    "try:\n",
    "    str=int(\"two\")\n",
    "except ValueError:\n",
    "    print(\"Invalid input type!\")\n",
    "\n",
    "\n",
    "\"\"\"c. Program to access an element in a list\"\"\"\n",
    "\n",
    "try:\n",
    "    a=[1,3,5]\n",
    "    value=a[4]\n",
    "except IndexError:\n",
    "    print(\"Invalid index!\")\n",
    "\n",
    "\n",
    "\"\"\"d. Program to handle a specific exception\"\"\"\n",
    "\n",
    "#IndexError type\n",
    "try:\n",
    "    a=[1,3,5]\n",
    "    value=a[4]\n",
    "except IndexError:\n",
    "    print(\"Invalid index!\")\n",
    "\n",
    "\n",
    "\"\"\"e. Program to handle any exception\"\"\"\n",
    "\n",
    "try:\n",
    "    a=[1,3,5]\n",
    "    value=a[4]\n",
    "except Exception as e:\n",
    "    print(\"Exception: \",e)\n"
   ]
  },
  {
   "cell_type": "code",
   "execution_count": null,
   "id": "43d1d499",
   "metadata": {},
   "outputs": [],
   "source": []
  }
 ],
 "metadata": {
  "kernelspec": {
   "display_name": "Python 3 (ipykernel)",
   "language": "python",
   "name": "python3"
  },
  "language_info": {
   "codemirror_mode": {
    "name": "ipython",
    "version": 3
   },
   "file_extension": ".py",
   "mimetype": "text/x-python",
   "name": "python",
   "nbconvert_exporter": "python",
   "pygments_lexer": "ipython3",
   "version": "3.10.9"
  },
  "toc": {
   "base_numbering": 1,
   "nav_menu": {},
   "number_sections": true,
   "sideBar": true,
   "skip_h1_title": false,
   "title_cell": "Table of Contents",
   "title_sidebar": "Contents",
   "toc_cell": false,
   "toc_position": {},
   "toc_section_display": true,
   "toc_window_display": false
  }
 },
 "nbformat": 4,
 "nbformat_minor": 5
}
