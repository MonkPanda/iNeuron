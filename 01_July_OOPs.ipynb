{
 "cells": [
  {
   "cell_type": "markdown",
   "id": "6228c2fd",
   "metadata": {},
   "source": [
    "# July 1 assignemnt solution(OOPs)"
   ]
  },
  {
   "cell_type": "code",
   "execution_count": 1,
   "id": "6dbcd3e0",
   "metadata": {},
   "outputs": [
    {
     "ename": "SyntaxError",
     "evalue": "invalid syntax (2535218481.py, line 3)",
     "output_type": "error",
     "traceback": [
      "\u001b[0;36m  Cell \u001b[0;32mIn[1], line 3\u001b[0;36m\u001b[0m\n\u001b[0;31m    Primary goal of OOPs are:\u001b[0m\n\u001b[0m            ^\u001b[0m\n\u001b[0;31mSyntaxError\u001b[0m\u001b[0;31m:\u001b[0m invalid syntax\n"
     ]
    }
   ],
   "source": [
    "## 1. What is the primary goal of Object-Oriented Programming (OOP)?\n",
    "\n",
    "'''Primary goal of OOPs are:\n",
    "    \n",
    "    -> Reusability and Modularisation of the code.\n",
    "    -> Inheritance\n",
    "    -> Polymorphism\n",
    "    -> Abstraction\n",
    "    -> Encapsulation\n",
    "    \n",
    "    All these benifits of OOPs help in extending the code resuability, \n",
    "    maintain structured code and flexible development. "
   ]
  },
  {
   "cell_type": "code",
   "execution_count": null,
   "id": "cf76b6e6",
   "metadata": {},
   "outputs": [],
   "source": []
  },
  {
   "cell_type": "code",
   "execution_count": null,
   "id": "9c7a6438",
   "metadata": {},
   "outputs": [],
   "source": [
    "## 2. What is an object in Python?\n",
    "\n",
    "'''\n",
    "An object is a copy of class blueprint with some attribute and methods.\n",
    "Objects can be used to use class attributes and methods as per the need\n",
    "for the obeject creation and further use. "
   ]
  },
  {
   "cell_type": "code",
   "execution_count": null,
   "id": "cf1aeb12",
   "metadata": {},
   "outputs": [],
   "source": []
  },
  {
   "cell_type": "code",
   "execution_count": null,
   "id": "bbb9bfc2",
   "metadata": {},
   "outputs": [],
   "source": [
    "## 3. What is a class in Python?\n",
    "\n",
    "'''\n",
    "A Class is a blueprint for attributes and methods to be accessed by object.\n",
    "The class methods will behave the way they are defined in the class \n",
    "once objects are created with real data for the class."
   ]
  },
  {
   "cell_type": "code",
   "execution_count": null,
   "id": "4987feec",
   "metadata": {},
   "outputs": [],
   "source": []
  },
  {
   "cell_type": "code",
   "execution_count": null,
   "id": "d734ab00",
   "metadata": {},
   "outputs": [],
   "source": [
    "## 4. What are attributes and methods in a class?\n",
    "\n",
    "'''\n",
    "Attributes and methods in a class are the variables and functions that \n",
    "any object of that class can access/pass when defining the object. These class \n",
    "methods can be defined/programmed to be accessed by class object achieving\n",
    "specific goals."
   ]
  },
  {
   "cell_type": "code",
   "execution_count": null,
   "id": "08692399",
   "metadata": {},
   "outputs": [],
   "source": []
  },
  {
   "cell_type": "code",
   "execution_count": 3,
   "id": "a9be03ad",
   "metadata": {},
   "outputs": [
    {
     "ename": "SyntaxError",
     "evalue": "incomplete input (3466621280.py, line 3)",
     "output_type": "error",
     "traceback": [
      "\u001b[0;36m  Cell \u001b[0;32mIn[3], line 3\u001b[0;36m\u001b[0m\n\u001b[0;31m    '''\u001b[0m\n\u001b[0m    ^\u001b[0m\n\u001b[0;31mSyntaxError\u001b[0m\u001b[0;31m:\u001b[0m incomplete input\n"
     ]
    }
   ],
   "source": [
    "## 5. What is the difference between class variables and instance variables in Python?\n",
    "\n",
    "'''\n",
    "Class variables are variables defined in a class but not within any class methods. Class variables \n",
    "are accessible across all the object instances. They are like gloabl variables within the scope of the class. \n",
    "Whereas, instance variables are the varibales that needs to be created during the \n",
    "initialization of the objects of the class hence they are defined in __init__()\n",
    "of the class.\n",
    "\n",
    "Ex:\n",
    "class parent:\n",
    "    x=15          #class variable\n",
    "    y=20          # class variable\n",
    "     \n",
    "    def __init__(self, name): #name is instance variable\n",
    "        self.name=name\n"
   ]
  },
  {
   "cell_type": "code",
   "execution_count": 4,
   "id": "5fe1aaaf",
   "metadata": {},
   "outputs": [],
   "source": [
    "##6. What is the purpose of the self parameter in Python class methods?\n",
    "\n",
    "'''\n",
    "The 'Self' keyword helps the python code to maintain the class method execution limited to the objects for which\n",
    "the class method is called. This is why all instance  methods in a class have self as a must keyword to ensure the execution\n",
    "of all methods are tied to the object(self) which has called the methods. \n"
   ]
  },
  {
   "cell_type": "code",
   "execution_count": null,
   "id": "e94ab613",
   "metadata": {},
   "outputs": [],
   "source": []
  },
  {
   "cell_type": "code",
   "execution_count": 18,
   "id": "fa460b78",
   "metadata": {},
   "outputs": [
    {
     "name": "stdout",
     "output_type": "stream",
     "text": [
      "Name: godan Author:Rajesh  PubYear: 1970  CopiesAvailable: 0\n",
      "Name: Harry Potter Author:J K Rowling  PubYear: 1990  CopiesAvailable: 5\n"
     ]
    }
   ],
   "source": [
    "## 7\n",
    "'''For a library management system, you have to design the \"Book\" class with OOP\n",
    "principles in mind. The “Book” class will have following attributes:\n",
    "a. title: Represents the title of the book.\n",
    "b. author: Represents the author(s) of the book.\n",
    "c. isbn: Represents the ISBN (International Standard Book Number) of the book.\n",
    "d. publication_year: Represents the year of publication of the book.\n",
    "e. available_copies: Represents the number of copies available for checkout.\n",
    "The class will also include the following methods:\n",
    "a. check_out(self): Decrements the available copies by one if there are copies\n",
    "available for checkout.\n",
    "b. return_book(self): Increments the available copies by one when a book is\n",
    "returned.\n",
    "c. display_book_info(self): Displays the information about the book, including its\n",
    "attributes and the number of available copies.\n",
    "\n",
    "'''\n",
    "\n",
    "class Book:\n",
    "    \n",
    "    #initialializing the instance variable\n",
    "    def __init__(self, title, author, isbn, publication_year, available_copies):\n",
    "        self.title=title\n",
    "        self.author=author\n",
    "        self.isbn=isbn\n",
    "        self.publication_year=publication_year\n",
    "        self.available_copies=available_copies\n",
    "    \n",
    "    #method to checkout a book copy from the library \n",
    "    def check_out(self):\n",
    "        if self.available_copies>0:\n",
    "            self.available_copies -=1\n",
    "        else:\n",
    "            print(\"No copy is available for checkout!\")\n",
    "\n",
    "    #method to return a borrowed copy\n",
    "    def return_book(self):\n",
    "        self.available_copies +=1\n",
    "    \n",
    "    #method to show all the details of the library\n",
    "    def display_book_info(self):\n",
    "        print(f\"Name: {self.title} Author:{self.author}  PubYear: {self.publication_year}  CopiesAvailable: {self.available_copies}\")\n",
    "\n",
    "book1=Book('godan','Rajesh','ISBN129574', 1970, 0)\n",
    "book2=Book('Harry Potter','J K Rowling','ISBN129500', 1990, 5)\n",
    "\n",
    "book1.display_book_info()\n",
    "book2.display_book_info()\n"
   ]
  },
  {
   "cell_type": "code",
   "execution_count": 26,
   "id": "5c972701",
   "metadata": {},
   "outputs": [
    {
     "name": "stdout",
     "output_type": "stream",
     "text": [
      "TicketID: 232 EventName:Gadar  date: 12/3/2023 Venue: PVR SeatNo: 23F Price:400 status:not reserved \n",
      "Ticket has been successfully reserved!\n",
      "TicketID: 232 EventName:Gadar  date: 12/3/2023 Venue: PVR SeatNo: 23F Price:400 status:reserved \n",
      "Ticket has been successfully cancelled!\n",
      "TicketID: 232 EventName:Gadar  date: 12/3/2023 Venue: PVR SeatNo: 23F Price:400 status:not reserved \n"
     ]
    }
   ],
   "source": [
    "## 8.\n",
    "\n",
    "\"\"\"For a ticket booking system, you have to design the \"Ticket\" class with OOP\n",
    "principles in mind. The “Ticket” class should have the following attributes:\n",
    "a. ticket_id: Represents the unique identifier for the ticket.\n",
    "b. event_name: Represents the name of the event.\n",
    "c. event_date: Represents the date of the event.\n",
    "d. venue: Represents the venue of the event.\n",
    "e. seat_number: Represents the seat number associated with the ticket.\n",
    "f. price: Represents the price of the ticket.\n",
    "g. is_reserved: Represents the reservation status of the ticket.\n",
    "The class also includes the following methods:\n",
    "a. reserve_ticket(self): Marks the ticket as reserved if it is not already reserved.\n",
    "b. cancel_reservation(self): Cancels the reservation of the ticket if it is already\n",
    "reserved.\n",
    "c. display_ticket_info(self): Displays the information about the ticket, including its\n",
    "attributes and reservation status.\"\"\"\n",
    "\n",
    "\n",
    "class Ticket:\n",
    "    \n",
    "    #instance attribute initialisation\n",
    "    def __init__(self,ticket_id,event_name,event_date,venue,seat_number,price, is_reserved):\n",
    "        self.ticket_id=ticket_id\n",
    "        self.event_name=event_name\n",
    "        self.event_date=event_date\n",
    "        self.venue=venue\n",
    "        self.seat_number=seat_number\n",
    "        self.price=price\n",
    "        self.is_reserved=is_reserved\n",
    "    \n",
    "    #ticket reservation method\n",
    "    def reserve_ticket(self):\n",
    "        if self.is_reserved==\"not reserved\":\n",
    "            self.is_reserved=\"reserved\"\n",
    "            print(f\"Ticket has been successfully reserved!\")\n",
    "\n",
    "        else:\n",
    "            print(f\"Ticket is already reserved!\")\n",
    "    \n",
    "    #ticket cancellation method\n",
    "    def cancel_reservation(self):\n",
    "        \n",
    "        if self.is_reserved==\"reserved\":\n",
    "            self.is_reserved=\"not reserved\"\n",
    "            print(f\"Ticket has been successfully cancelled!\")\n",
    "\n",
    "        else:\n",
    "            print(f\"Ticket is already reserved!\")\n",
    "        \n",
    "    #Ticket info display method\n",
    "    def display_ticket_info(self):\n",
    "        \n",
    "         print(f\"TicketID: {self.ticket_id} EventName:{self.event_name}  date: {self.event_date} Venue: {self.venue} SeatNo: {self.seat_number} Price:{self.price} status:{self.is_reserved} \")\n",
    "            \n",
    "#object creation    \n",
    "ticket1=Ticket(232, \"Gadar\", '12/3/2023', \"PVR\",\"23F\", 400,\"not reserved\")\n",
    "ticket1.display_ticket_info()\n",
    "\n",
    "#Reservation method call\n",
    "ticket1.reserve_ticket()\n",
    "ticket1.display_ticket_info()\n",
    "\n",
    "#cancellation method call\n",
    "ticket1.cancel_reservation()\n",
    "ticket1.display_ticket_info()"
   ]
  },
  {
   "cell_type": "code",
   "execution_count": 30,
   "id": "90a85f02",
   "metadata": {},
   "outputs": [
    {
     "name": "stdout",
     "output_type": "stream",
     "text": [
      "There are 12 items in the cart.\n",
      "There are 14 items in the cart.\n",
      "There are 11 items in the cart.\n",
      "Your cart has been cleared\n",
      "There are 0 items in the cart.\n"
     ]
    }
   ],
   "source": [
    "## 9.\n",
    "\"\"\"You are creating a shopping cart for an e-commerce website. Using OOP to model\n",
    "the \"ShoppingCart\" functionality the class should contain following attributes and\n",
    "methods:\n",
    "a. items: Represents the list of items in the shopping cart.\n",
    "The class also includes the following methods:\n",
    "\n",
    "a. add_item(self, item): Adds an item to the shopping cart by appending it to the\n",
    "list of items.\n",
    "b. remove_item(self, item): Removes an item from the shopping cart if it exists in\n",
    "the list.\n",
    "c. view_cart(self): Displays the items currently present in the shopping cart.\n",
    "d. clear_cart(self): Clears all items from the shopping cart by reassigning an\n",
    "empty list to the items attribute.\"\"\"\n",
    "\n",
    "\n",
    "class ShopingCart:\n",
    "    \n",
    "    #instance attribute initialisation\n",
    "    def __init__(self, items):\n",
    "        self.items=items\n",
    "        \n",
    "    #add item method\n",
    "    def add_item(self, item):\n",
    "        self.items+= item\n",
    "    #remove item method\n",
    "    def remove_item(self,item):\n",
    "        if self.items!=0:\n",
    "            self.items -=item\n",
    "        else:\n",
    "            return \"There is not no item in cart to be removed\"\n",
    "    #view cart method\n",
    "    def view_cart(self):\n",
    "        print(f\"There are {self.items} items in the cart.\")\n",
    "    #cart clear method\n",
    "    def clear_cart(self):\n",
    "        self.items=0\n",
    "        print(f\"Your cart has been cleared\")\n",
    "        \n",
    "#object creation\n",
    "cart=ShopingCart(12)\n",
    "cart.view_cart()\n",
    "\n",
    "#adding into the cart\n",
    "cart.add_item(2)\n",
    "cart.view_cart()\n",
    "\n",
    "#removig from the cart\n",
    "cart.remove_item(3)\n",
    "cart.view_cart()\n",
    "\n",
    "#clearing the card\n",
    "cart.clear_cart()\n",
    "cart.view_cart()\n",
    "\n"
   ]
  },
  {
   "cell_type": "code",
   "execution_count": 86,
   "id": "5532267e",
   "metadata": {},
   "outputs": [
    {
     "name": "stdout",
     "output_type": "stream",
     "text": [
      "Attendance record {'2023-08-01': 'P', '2023-08-02': 'A', '2023-08-03': 'A'}\n",
      "Average attendance of rajesh is 33.33 %\n"
     ]
    }
   ],
   "source": [
    "\"\"\"10. Imagine a school management system. You have to design the \"Student\" class using\n",
    "OOP concepts.The “Student” class has the following attributes:\n",
    "a. name: Represents the name of the student.\n",
    "b. age: Represents the age of the student.\n",
    "c. grade: Represents the grade or class of the student.\n",
    "d. student_id: Represents the unique identifier for the student.\n",
    "e. attendance: Represents the attendance record of the student.\n",
    "The class should also include the following methods:\n",
    "a. update_attendance(self, date, status): Updates the attendance record of the\n",
    "student for a given date with the provided status (e.g., present or absent).\n",
    "b. get_attendance(self): Returns the attendance record of the student.\n",
    "c. get_average_attendance(self): Calculates and returns the average\n",
    "attendance percentage of the student based on their attendance record.\"\"\"\n",
    "\n",
    "\n",
    "class Student:\n",
    "    \n",
    "    #instance attribute initialisation\n",
    "    def __init__(self,name,age,grade,student_id):\n",
    "        self.name=name\n",
    "        self.age=age\n",
    "        self.grade=grade\n",
    "        self.student_id=student_id\n",
    "        self.attendance={}\n",
    "    \n",
    "    #attendance update method\n",
    "    def update_attendance(self, date, status):\n",
    "        if status in [\"P\",\"A\"]:\n",
    "            self.attendance[date]=status\n",
    "        else:\n",
    "            print(f\"Error in updation!\")\n",
    "\n",
    "    #attendance record fetch method\n",
    "    def get_attendance(self):\n",
    "        return self.attendance\n",
    "     \n",
    "    #attendance average calculation method\n",
    "    def get_average_attendance(self):\n",
    "        \n",
    "        Number_of_days = len(self.attendance) \n",
    "        sum=0\n",
    "        for status in self.attendance.values():\n",
    "            if status==\"P\":\n",
    "                sum+=1\n",
    "        \n",
    "        average= (sum/Number_of_days)*100\n",
    "        return average\n",
    "\n",
    "# object creation\n",
    "student1 = Student(\"rajesh\", 15, \"10th\", \"S12345\")\n",
    "\n",
    "# Updating attendance for specific dates\n",
    "student1.update_attendance(\"2023-08-01\", \"P\")\n",
    "student1.update_attendance(\"2023-08-02\", \"A\")\n",
    "student1.update_attendance(\"2023-08-03\", \"A\")\n",
    "\n",
    "# Getting attendance record and average attendance\n",
    "attendance_record = student1.get_attendance()\n",
    "average_attendance=student1.get_average_attendance()\n",
    "\n",
    "print(\"Attendance record\",attendance_record)\n",
    "print(f\"Average attendance of {student1.name} is {round(average_attendance,2)} %\")\n"
   ]
  },
  {
   "cell_type": "code",
   "execution_count": null,
   "id": "d1f98231",
   "metadata": {},
   "outputs": [],
   "source": []
  },
  {
   "cell_type": "code",
   "execution_count": null,
   "id": "3d5a8b7a",
   "metadata": {},
   "outputs": [],
   "source": []
  },
  {
   "cell_type": "code",
   "execution_count": null,
   "id": "7357851d",
   "metadata": {},
   "outputs": [],
   "source": []
  },
  {
   "cell_type": "code",
   "execution_count": null,
   "id": "8b11f525",
   "metadata": {},
   "outputs": [],
   "source": []
  }
 ],
 "metadata": {
  "kernelspec": {
   "display_name": "Python 3 (ipykernel)",
   "language": "python",
   "name": "python3"
  },
  "language_info": {
   "codemirror_mode": {
    "name": "ipython",
    "version": 3
   },
   "file_extension": ".py",
   "mimetype": "text/x-python",
   "name": "python",
   "nbconvert_exporter": "python",
   "pygments_lexer": "ipython3",
   "version": "3.10.9"
  },
  "toc": {
   "base_numbering": 1,
   "nav_menu": {},
   "number_sections": true,
   "sideBar": true,
   "skip_h1_title": false,
   "title_cell": "Table of Contents",
   "title_sidebar": "Contents",
   "toc_cell": false,
   "toc_position": {},
   "toc_section_display": true,
   "toc_window_display": false
  }
 },
 "nbformat": 4,
 "nbformat_minor": 5
}
