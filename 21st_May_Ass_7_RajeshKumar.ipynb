{
 "cells": [
  {
   "cell_type": "code",
   "execution_count": 2,
   "id": "ed1ccb28",
   "metadata": {},
   "outputs": [
    {
     "name": "stdout",
     "output_type": "stream",
     "text": [
      "Addition 8\n",
      "subtraction 4\n",
      "Multiplication 12\n",
      "Division 3.0\n"
     ]
    }
   ],
   "source": [
    "\"\"\"1. Create two int type variables, apply addition, subtraction, division and multiplications and store the results in variables. Then print the data in the following format by calling the variables: \n",
    "First variable is __ & second variable is __. \n",
    "Addition: __ + __ = __ \n",
    "Subtraction: __ - __ = __ \n",
    "Multiplication: __ * __ = __ \n",
    "Division: __ / __ = __ \n",
    "    \n",
    "    \"\"\"\n",
    "#Solution:\n",
    "\n",
    "a= 6\n",
    "b= 2\n",
    "print(\"Addition\", a+b)\n",
    "print(\"subtraction\", a-b)\n",
    "print(\"Multiplication\", a*b)\n",
    "print(\"Division\", a/b)\n"
   ]
  },
  {
   "cell_type": "code",
   "execution_count": null,
   "id": "141ea0d5",
   "metadata": {},
   "outputs": [],
   "source": [
    " What is the difference between the following operators: \n",
    "(i) ‘/’ & ‘//’  - / - is a float division operator while // - is integer division operator(returns the integer part of the quotient only.\n",
    "(ii) ‘**’ & ‘^’ : ** is power operator is a power operator(x**y means (x) to power y. Whereas, ^ is bitwise XOR operator meaning it operates on binary of the number and return true(1) when the variable bit values are not same( both can not be 0 or 1) and False when both bit values are same(either 0 or 1).\n"
   ]
  },
  {
   "cell_type": "code",
   "execution_count": null,
   "id": "d298a793",
   "metadata": {},
   "outputs": [],
   "source": [
    "Q.3. List the logical operators.\n",
    "\n",
    "AND(both true), OR(any one true), NOT(Alternate of True/False input) \n"
   ]
  },
  {
   "cell_type": "code",
   "execution_count": 8,
   "id": "5f34346f",
   "metadata": {},
   "outputs": [
    {
     "name": "stdout",
     "output_type": "stream",
     "text": [
      "8>>2 results in: 2\n",
      "8<<2 results in: 32\n"
     ]
    }
   ],
   "source": [
    "\"\"\"Explain right shift operator and left shift operator with examples.\n",
    "\n",
    "Right shift operator(>>): It shifts the bits to the right by defined number of shift. In decimal system, it divides the number by 2**number of shifts.\"\"\"\n",
    "#Example: \n",
    "n=8>>2\n",
    "\n",
    "#8/2**2 -> 8/4=2\n",
    "print(\"8>>2 results in:\",n)  \n",
    "\n",
    "\"\"\"Left shift operator(<<): It shifts the bits to the left  by defined number of shift. In decimal system, it multiplies the number by 2**number of shifts.\n",
    "\"\"\"\n",
    "#Example: \n",
    "n=8<<2\n",
    "#n= 8*(2**2)=32  \n",
    "print(\"8<<2 results in:\",n)\n",
    "\n",
    "\n"
   ]
  },
  {
   "cell_type": "code",
   "execution_count": 13,
   "id": "fa9f747f",
   "metadata": {},
   "outputs": [
    {
     "name": "stdout",
     "output_type": "stream",
     "text": [
      "10 is present\n"
     ]
    }
   ],
   "source": [
    "\"\"\"Create a list containing int type data of length 15. Then write a code to check if 10 is present in the list or not.\n",
    "\"\"\"\n",
    "a=[1,2,3,4,5,6,7,8,9,12,34,10,23,56,22]\n",
    "\n",
    "if 10 in a:\n",
    "    print(\"10 is present\")\n",
    "else: \n",
    "    print(\"10 is not present\")\n"
   ]
  },
  {
   "cell_type": "code",
   "execution_count": null,
   "id": "899bf9a5",
   "metadata": {},
   "outputs": [],
   "source": []
  }
 ],
 "metadata": {
  "kernelspec": {
   "display_name": "Python 3 (ipykernel)",
   "language": "python",
   "name": "python3"
  },
  "language_info": {
   "codemirror_mode": {
    "name": "ipython",
    "version": 3
   },
   "file_extension": ".py",
   "mimetype": "text/x-python",
   "name": "python",
   "nbconvert_exporter": "python",
   "pygments_lexer": "ipython3",
   "version": "3.10.9"
  },
  "toc": {
   "base_numbering": 1,
   "nav_menu": {},
   "number_sections": true,
   "sideBar": true,
   "skip_h1_title": false,
   "title_cell": "Table of Contents",
   "title_sidebar": "Contents",
   "toc_cell": false,
   "toc_position": {},
   "toc_section_display": true,
   "toc_window_display": false
  }
 },
 "nbformat": 4,
 "nbformat_minor": 5
}
