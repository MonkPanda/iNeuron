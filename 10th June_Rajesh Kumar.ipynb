{
 "cells": [
  {
   "cell_type": "code",
   "execution_count": 4,
   "id": "ae2baa17",
   "metadata": {},
   "outputs": [
    {
     "name": "stdout",
     "output_type": "stream",
     "text": [
      "This is a user defined function result\n"
     ]
    }
   ],
   "source": [
    "\"\"\"In Python, what is the difference between a built-in function and a user-defined function? Provide an example of each. \n",
    "\n",
    "Answer:\n",
    "\n",
    "Built in function: A built in function will be part of an existing python library/package. A built in function can be used by importing the parent package.\n",
    "\n",
    "Example: print(“This is a built in function”).\n",
    "\n",
    "Whereas, a user defined function is a functionality that needs to be created from scratch in order to solve a use case that can not be solved with built in\n",
    "functions. A user-defined function can use built-in functions in its definitions.\n",
    "\"\"\"\n",
    "\n",
    "\n",
    "def user_defined_function():\n",
    "    print(\"This is a user defined function result\")\n",
    "\n",
    "user_defined_function()\n"
   ]
  },
  {
   "cell_type": "code",
   "execution_count": 7,
   "id": "b2578dc3",
   "metadata": {},
   "outputs": [
    {
     "name": "stdout",
     "output_type": "stream",
     "text": [
      "5\n",
      "7\n"
     ]
    }
   ],
   "source": [
    "\"\"\"How can you pass arguments to a function in Python? Explain the difference between positional arguments and keyword arguments.\n",
    "\n",
    "Answer:\n",
    "\n",
    "Arguments are passed during the function call in python.\n",
    "\n",
    "Positional arguments values are passed in the same order in function call in which they are defined in function definition, however,\n",
    "in keyword arguments, the value of the arguments are passed along with the name of the keywords during the function call so order of arguments can change.\"\"\"\n",
    "\n",
    "#Ex: \n",
    "\n",
    "def add(x,y):\n",
    "    print (x+y)\n",
    "\n",
    "add(2,3)    #Positional arguments\n",
    "add(x=2, y=5)    #keyword arguments\n"
   ]
  },
  {
   "cell_type": "code",
   "execution_count": 10,
   "id": "ed169616",
   "metadata": {},
   "outputs": [
    {
     "data": {
      "text/plain": [
       "9"
      ]
     },
     "execution_count": 10,
     "metadata": {},
     "output_type": "execute_result"
    }
   ],
   "source": [
    "\"\"\"What is the purpose of the return statement in a function? Can a function have multiple return statements? Explain with an example. \n",
    "\n",
    "Answer:\n",
    "\n",
    "A return statement returns an output to the function call and terminates the function execution right after it. \n",
    "No, a function can have only one return statement. This return can be of mixed data types if data structures are being returned(dic,tuples etc). \n",
    "\"\"\"\n",
    "#Ex: \n",
    "\n",
    "def add(x,y):\n",
    "    c= x+y\n",
    "    return c\n",
    "add(4,5)\n"
   ]
  },
  {
   "cell_type": "code",
   "execution_count": 11,
   "id": "bee194ee",
   "metadata": {},
   "outputs": [
    {
     "name": "stdout",
     "output_type": "stream",
     "text": [
      "[1, 4, 9, 16, 25]\n"
     ]
    }
   ],
   "source": [
    "\"\"\"What are lambda functions in Python? How are they different from regular functions? \n",
    "Provide an example where a lambda function can be useful. \n",
    "\n",
    "Lambda functions are anonymous/inline functions in python. They do not need ‘def’ keyword to be defined.\n",
    "They are used for quick functionality or transaformation without having to define full function.\n",
    "\n",
    "\n",
    "\"\"\"\n",
    "#Ex.\n",
    "\n",
    "numbers = [1, 2, 3, 4, 5]\n",
    "squared = list(map(lambda x: x**2, numbers))\n",
    "print(squared)"
   ]
  },
  {
   "cell_type": "code",
   "execution_count": null,
   "id": "770281b9",
   "metadata": {},
   "outputs": [],
   "source": [
    "\"\"\"How does the concept of \"scope\" apply to functions in Python? Explain the difference between local scope \n",
    "and global scope. \n",
    "\n",
    "Answer:\n",
    "\n",
    "Scope of variables define if they can be accessed within a function or globally at any point in a program. \n",
    "\n",
    "Global scope makes a variable accessible globally across the program while local\n",
    "scope contains the variable existence limited within the function it has been defined\n",
    "in. A local varibale can not be access outside the defined function scope by anyother function.\"\"\"\n"
   ]
  },
  {
   "cell_type": "code",
   "execution_count": 13,
   "id": "841b733a",
   "metadata": {},
   "outputs": [
    {
     "name": "stdout",
     "output_type": "stream",
     "text": [
      "(5, 10)\n"
     ]
    }
   ],
   "source": [
    "\n",
    "\"\"\"6. How can you use the \"return\" statement in a Python function to return multiple   values? \n",
    "\n",
    "Answer:\n",
    "\n",
    "Using data structures in return statement(tuples, dictionaries etc.), multiple values in a single return statement\n",
    "can be returned. \n",
    "\"\"\"\n",
    "\n",
    "#Ex.:\n",
    "def multi_return():\n",
    "    x = 5\n",
    "    y = 10\n",
    "    return x, y\n",
    "\n",
    "ret = multi_return()\n",
    "print(ret) \n"
   ]
  },
  {
   "cell_type": "code",
   "execution_count": null,
   "id": "9cbd4eb6",
   "metadata": {},
   "outputs": [],
   "source": [
    "\"\"\"7. What is the difference between the \"pass by value\" and \"pass by reference\" concepts when it comes to function arguments in Python?\n",
    "\n",
    "Answer:\n",
    "\n",
    "Pass by Value: When function is provided with immutable data type values like int, float etc. They can be manipulated within function scope without changing the value of out of function scope variable. \n",
    "\n",
    "Pass by reference: Here, the mutable type data types (list, dic, set etc.) are passed to the function argument and any changes made to arguments within the function scope would change the original argument value as well. \n",
    "\n",
    "\"\"\"\n",
    "\n"
   ]
  },
  {
   "cell_type": "code",
   "execution_count": 20,
   "id": "213689ed",
   "metadata": {},
   "outputs": [
    {
     "name": "stdout",
     "output_type": "stream",
     "text": [
      "Logrithmic 0.6931471805599453\n",
      "Exponential 7.38905609893065\n",
      "Power 4.0\n",
      "square root 1.4142135623730951\n"
     ]
    }
   ],
   "source": [
    "\"\"\"Create a function that can intake integer or decimal values and do following operations: \n",
    "       a. Logarithmic function (log x) \n",
    "b. Exponential function (exp(x)) \n",
    "c. Power function with base 2 (2x) \n",
    "d. Square root \"\"\"\n",
    "\n",
    "import math\n",
    "def math_operations(x):\n",
    "    print(\"Logrithmic\", math.log(x))\n",
    "    print(\"Exponential\", math.exp(x))\n",
    "    print(\"Power\", math.pow(2,x))\n",
    "    print(\"square root\", math.sqrt(x))\n",
    "\n",
    "math_operations(2)\n"
   ]
  },
  {
   "cell_type": "code",
   "execution_count": 30,
   "id": "dd32c2ef",
   "metadata": {},
   "outputs": [
    {
     "name": "stdout",
     "output_type": "stream",
     "text": [
      "('Rajesh', 'Kumar')\n"
     ]
    }
   ],
   "source": [
    "\"\"\"Create a function that takes a full name as an argument and returns first name and last name.\n",
    "\"\"\"\n",
    "def name_separator(x):\n",
    "    name=x.split(\" \")\n",
    "    first_name=name[0]\n",
    "    last_name=name[1]    \n",
    "    return first_name, last_name\n",
    "\n",
    "y=name_separator(\"Rajesh Kumar\")\n",
    "print(y)\n"
   ]
  },
  {
   "cell_type": "code",
   "execution_count": null,
   "id": "0353343e",
   "metadata": {},
   "outputs": [],
   "source": []
  }
 ],
 "metadata": {
  "kernelspec": {
   "display_name": "Python 3 (ipykernel)",
   "language": "python",
   "name": "python3"
  },
  "language_info": {
   "codemirror_mode": {
    "name": "ipython",
    "version": 3
   },
   "file_extension": ".py",
   "mimetype": "text/x-python",
   "name": "python",
   "nbconvert_exporter": "python",
   "pygments_lexer": "ipython3",
   "version": "3.10.9"
  },
  "toc": {
   "base_numbering": 1,
   "nav_menu": {},
   "number_sections": true,
   "sideBar": true,
   "skip_h1_title": false,
   "title_cell": "Table of Contents",
   "title_sidebar": "Contents",
   "toc_cell": false,
   "toc_position": {},
   "toc_section_display": true,
   "toc_window_display": false
  }
 },
 "nbformat": 4,
 "nbformat_minor": 5
}
