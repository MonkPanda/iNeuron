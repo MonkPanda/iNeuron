{
 "cells": [
  {
   "cell_type": "code",
   "execution_count": 4,
   "id": "ac311986",
   "metadata": {},
   "outputs": [
    {
     "name": "stdout",
     "output_type": "stream",
     "text": [
      "The result is: 3.0\n"
     ]
    }
   ],
   "source": [
    "\"\"\"1. What is the role of the 'else' block in a try-except statement? Provide an example scenario where it would be useful. \n",
    "\"\"\"\n",
    "Else block in a try-except black gets executed when no exception is thrown for the operation performed in try block. \n",
    "\n",
    "def divide(x, y):\n",
    "    try:\n",
    "        result = x / y\n",
    "    except ZeroDivisionError:\n",
    "        print(\"Division by zero is not allowed.\")\n",
    "    except TypeError:\n",
    "        print(\"Invalid divisor type.\")\n",
    "    else:\n",
    "        print(f\"The result is: {result}\")\n",
    "\n",
    "divide(6,2)"
   ]
  },
  {
   "cell_type": "code",
   "execution_count": 12,
   "id": "642b8c33",
   "metadata": {},
   "outputs": [
    {
     "name": "stdout",
     "output_type": "stream",
     "text": [
      "Result of the calculation: 10\n"
     ]
    }
   ],
   "source": [
    "\"\"\"2. Can a try-except block be nested inside another try-except block? Explain with an example. \n",
    "\"\"\"\n",
    "\n",
    "def divide(x, y):\n",
    "    try:\n",
    "        result = x / y\n",
    "    except ZeroDivisionError:\n",
    "        print(\"Division by zero is not allowed.\")\n",
    "    except TypeError:\n",
    "        print(\"Invalid divisor type.\")\n",
    "    else:\n",
    "        print(f\"The result is: {result}\")\n",
    "        \n",
    "\n",
    "def cal(divisor):\n",
    "    try:\n",
    "        val=int(divisor)\n",
    "        divide(100,val)\n",
    "    \n",
    "    except ValueError:\n",
    "        print(\"Invalid data format.\")\n",
    "              \n",
    "    except Exception as e:\n",
    "        print(f\"An error occurred: {e}\")\n",
    "              \n",
    "print(f\"Result of the calculation: {(10)}\")\n"
   ]
  },
  {
   "cell_type": "code",
   "execution_count": 2,
   "id": "017a175f",
   "metadata": {},
   "outputs": [
    {
     "name": "stdout",
     "output_type": "stream",
     "text": [
      "Custom Error: Value cannot be negative\n"
     ]
    }
   ],
   "source": [
    "\"\"\"3. How can you create a custom exception class in Python? Provide an example that demonstrates its usage. \n",
    "\n",
    "A custom exception class can be created by inheriting the in built python class 'Exception'. The custom exception\n",
    "class can be used to raise the custom logic based exceptions.  \n",
    "\n",
    "\"\"\"\n",
    "Ex:\n",
    "#inheriting the custom exception class to create custom exception    \n",
    "class CustomError(Exception):\n",
    "    def __init__(self, message):\n",
    "        self.message = message\n",
    "        super().__init__(self.message)\n",
    "\n",
    "def Validation_function(value):\n",
    "    if value < 0:\n",
    "        raise CustomError(\"Value cannot be negative\")\n",
    "\n",
    "#try-except block for fucntion call        \n",
    "try:\n",
    "    do_something(-5)\n",
    "except CustomError as ce:\n",
    "    print(\"Custom Error:\", ce)\n"
   ]
  },
  {
   "cell_type": "code",
   "execution_count": null,
   "id": "02e5193a",
   "metadata": {},
   "outputs": [],
   "source": [
    "4. What are some common exceptions that are built-in to Python?\n",
    "\n",
    "1. ValueError: Raised when an argument has the correct type but an inappropriate value. Ex: int(\"Two\")\n",
    "2. TypeError: Raised when an operation or function is applied to an object of inappropriate type. Ex: \"2\"/2\n",
    "3. IndexError: Raised when a sequence subscript is out of range. Ex: a=(1,2) a[3]= index error\n",
    "4. KeyError: Raised when a dictionary is accessed with a key that doesn not exist. Ex: a={\"A\":1,\"B\":3} a[\"C\"]= error \n",
    "5. FileNotFoundError: Raised when a file or directory is requested but cannot be found.\n"
   ]
  },
  {
   "cell_type": "code",
   "execution_count": null,
   "id": "34ebc902",
   "metadata": {},
   "outputs": [],
   "source": [
    "5. What is logging in Python, and why is it important in software development?\n",
    "\n",
    "Logging is a development practice to create notes/logs pf program execution capturing errors, monitoring\n",
    "execution steps so that these logs can be used for multiple purposes:\n",
    "    1. Error logging for debug reasons\n",
    "    2. Monitoring of execution steps\n",
    "    3. Compliance checks in code\n",
    "    4. Optimisation of code based on time taken for execution\n",
    "    5. Tracking the error part of the execution for fast resolution\n",
    "\n"
   ]
  },
  {
   "cell_type": "code",
   "execution_count": null,
   "id": "0b61774b",
   "metadata": {},
   "outputs": [],
   "source": [
    "6. Explain the purpose of log levels in Python logging and provide examples of when each log level would be appropriate. \n",
    "\n",
    "Log levels in python help developers to categpries the criticality and urgency of an error and actions as per the \n",
    "category for the whole development team.\n",
    "\n",
    "1. DEBUG - This log level is used to capture the basic coding level erros. \n",
    "Ex: undefined variable usage in print. \n",
    "\n",
    "import logging\n",
    "logging.basicConfig(level=logging.DEBUG)\n",
    "logging.debug(\"Debug message: Variable x =\", x)\n",
    "------------------------------------------------------------------------------\n",
    "\n",
    "2.INFO - To print any custom info about the execution of the program. Ex: Function execution started. \n",
    "Ex: \n",
    "    \n",
    "import logging\n",
    "logging.basicConfig(level=logging.INFO)\n",
    "logging.info(\"function execution started\") \n",
    "------------------------------------------------------------------------------    \n",
    "    \n",
    "3. WARNING: Used to indicate potential issues that might cause problems but are not critical to the \n",
    "program's execution.\n",
    "\n",
    "Ex: \n",
    "    \n",
    "import logging\n",
    "logging.basicConfig(level=logging.WARNING)\n",
    "logging.warning(\"Deprecated function 'ABC' is used.\")\n",
    "------------------------------------------------------------------------------\n",
    "\n",
    "4. ERROR:Used to report errors that prevent specific parts of the application from functioning as intended.\n",
    "\n",
    "Ex:\n",
    "\n",
    "import logging\n",
    "\n",
    "logging.basicConfig(level=logging.ERROR)\n",
    "try:\n",
    "    result = 10 / 0\n",
    "except Exception as e:\n",
    "    logging.error(\"An error occurred: %s\", e)\n",
    "------------------------------------------------------------------------------\n",
    "    \n",
    "5.CRITICAL: Used for critical errors that might lead to the program's complete failure or significant data loss.\n",
    "Ex: Errors that need immediate attention, such as a database connection failure.\n",
    "\n",
    "import logging\n",
    "logging.basicConfig(level=logging.CRITICAL)\n",
    "logging.critical(\"Database connection lost. Exiting application.\")\n",
    "\n",
    "------------------------------------------------------------------------------\n",
    "\n",
    "6. NOTSET:  A special level that allows you to configure loggers to capture all messages, regardless of level.\n",
    "    \n",
    "Ex:\n",
    "import logging\n",
    "logging.basicConfig(level=logging.NOTSET)\n",
    "logging.log(logging.NOTSET, \"Custom log message\")"
   ]
  },
  {
   "cell_type": "code",
   "execution_count": null,
   "id": "498cfb8d",
   "metadata": {},
   "outputs": [],
   "source": [
    "7. What are log formatters in Python logging, and how can you customise the log message format using formatters? \n",
    "\n",
    "Log formatters are inbuilt functions that lets default logs fprmats to be customised to provide more meaningful\n",
    "messages during logging. \n",
    "\n",
    "ex: \n",
    "\n",
    "formatter = logging.Formatter('%(asctime)s - %(levelname)s - %(message)s')\n",
    "\n",
    "Here, the log file will collect the time of the log creation, level of the log, and message attached with the log. "
   ]
  },
  {
   "cell_type": "code",
   "execution_count": 5,
   "id": "30d4c36e",
   "metadata": {},
   "outputs": [
    {
     "ename": "SyntaxError",
     "evalue": "invalid syntax (1300046672.py, line 1)",
     "output_type": "error",
     "traceback": [
      "\u001b[0;36m  Cell \u001b[0;32mIn[5], line 1\u001b[0;36m\u001b[0m\n\u001b[0;31m    8. How can you set up logging to capture log messages from multiple modules or classes in a Python application?\u001b[0m\n\u001b[0m       ^\u001b[0m\n\u001b[0;31mSyntaxError\u001b[0m\u001b[0;31m:\u001b[0m invalid syntax\n"
     ]
    }
   ],
   "source": [
    "8. How can you set up logging to capture log messages from multiple modules or classes in a Python application? \n",
    "\n",
    "1. Create a single centralised logging module python file with formatters and other relevant field. \n",
    "\n",
    "2. Import this python file in other modules/classes to log the things required to be logged via log file created. in step 1. \n"
   ]
  },
  {
   "cell_type": "code",
   "execution_count": 6,
   "id": "2acbbfc3",
   "metadata": {},
   "outputs": [
    {
     "ename": "SyntaxError",
     "evalue": "invalid syntax (125953846.py, line 1)",
     "output_type": "error",
     "traceback": [
      "\u001b[0;36m  Cell \u001b[0;32mIn[6], line 1\u001b[0;36m\u001b[0m\n\u001b[0;31m    9. What is the difference between the logging and print statements in Python? When should you use logging over print statements in a real-world application?\u001b[0m\n\u001b[0m       ^\u001b[0m\n\u001b[0;31mSyntaxError\u001b[0m\u001b[0;31m:\u001b[0m invalid syntax\n"
     ]
    }
   ],
   "source": [
    "9. What is the difference between the logging and print statements in Python? When should you use logging over print statements in a real-world application? \n",
    "\n",
    "Logging: Logging is a more detailed capturing of multiple categories of log events based on severity. Logging is\n",
    "is more suitable for production event logging. \n",
    "\n",
    "Priting: Print is more suitable for quick debugs and for developlement phase. On production, a lot of print can create\n",
    "excess performance load. They can not be centralised with the flexibility with which logging events can be. \n"
   ]
  },
  {
   "cell_type": "code",
   "execution_count": 7,
   "id": "bbafa7f5",
   "metadata": {},
   "outputs": [
    {
     "name": "stderr",
     "output_type": "stream",
     "text": [
      "INFO:root:Hello, World!\n"
     ]
    }
   ],
   "source": [
    "\"\"\"10. Write a Python program that logs a message to a file named \"app.log\" with the following requirements: \n",
    "● The log message should be \"Hello, World!\" \n",
    "● The log level should be set to \"INFO.\" \n",
    "● The log file should append new log entries without overwriting previous ones. \"\"\"\n",
    "\n",
    "import logging\n",
    "\n",
    "# Configure logging to write to \"app.log\" file\n",
    "logging.basicConfig(filename='app.log', filemode='a', level=logging.INFO, format='%(asctime)s - %(levelname)s - %(message)s')\n",
    "\n",
    "# Log the message\n",
    "logging.info(\"Hello, World!\")\n"
   ]
  },
  {
   "cell_type": "code",
   "execution_count": 8,
   "id": "9b5a6f23",
   "metadata": {},
   "outputs": [
    {
     "name": "stderr",
     "output_type": "stream",
     "text": [
      "ERROR:root:Exception occurred: division by zero\n"
     ]
    }
   ],
   "source": [
    "\"\"\"11. Create a Python program that logs an error message to the console and a file named \"errors.log\" if \n",
    "an exception occurs during the program's execution. The error message should include the exception type \n",
    "and a timestamp.\n",
    "\"\"\"\n",
    "\n",
    "import logging\n",
    "\n",
    "# Configure logging to write to both console and \"errors.log\" file\n",
    "logging.basicConfig(level=logging.ERROR, format='%(asctime)s - %(levelname)s - %(message)s')\n",
    "\n",
    "# \"errors.log\" file\n",
    "file_handler = logging.FileHandler('errors.log')\n",
    "file_handler.setLevel(logging.ERROR)\n",
    "file_formatter = logging.Formatter('%(asctime)s - %(levelname)s - %(message)s')\n",
    "file_handler.setFormatter(file_formatter)\n",
    "\n",
    "# Add the FileHandler to the root logger\n",
    "logging.getLogger('').addHandler(file_handler)\n",
    "\n",
    "try:\n",
    "    # Code to raise an exception\n",
    "    result = 10 / 0\n",
    "except Exception as e:\n",
    "    # Loging the exception\n",
    "    logging.error(\"Exception occurred: %s\", e)\n"
   ]
  },
  {
   "cell_type": "code",
   "execution_count": null,
   "id": "7d78ffb2",
   "metadata": {},
   "outputs": [],
   "source": []
  }
 ],
 "metadata": {
  "kernelspec": {
   "display_name": "Python 3 (ipykernel)",
   "language": "python",
   "name": "python3"
  },
  "language_info": {
   "codemirror_mode": {
    "name": "ipython",
    "version": 3
   },
   "file_extension": ".py",
   "mimetype": "text/x-python",
   "name": "python",
   "nbconvert_exporter": "python",
   "pygments_lexer": "ipython3",
   "version": "3.10.9"
  },
  "toc": {
   "base_numbering": 1,
   "nav_menu": {},
   "number_sections": true,
   "sideBar": true,
   "skip_h1_title": false,
   "title_cell": "Table of Contents",
   "title_sidebar": "Contents",
   "toc_cell": false,
   "toc_position": {},
   "toc_section_display": true,
   "toc_window_display": false
  }
 },
 "nbformat": 4,
 "nbformat_minor": 5
}
