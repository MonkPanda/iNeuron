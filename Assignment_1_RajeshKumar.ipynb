{
 "cells": [
  {
   "cell_type": "code",
   "execution_count": null,
   "id": "04a5e8bf",
   "metadata": {},
   "outputs": [],
   "source": [
    "\"\"\"1. In the below elements which of them are values or an expression? eg:- values can be integer or string and expressions will be mathematical operators.\n",
    "\"\"\"\n",
    "* - operator (multiplication operator)\n",
    "'Hello' - string value\n",
    "-87.8 - Float value\n",
    "- - operator(subtraction operator)\n",
    "/ - operator(division operator)\n",
    "+ - operator(addition operator)\n",
    "6 - Integer value\n"
   ]
  },
  {
   "cell_type": "code",
   "execution_count": null,
   "id": "8ed248ab",
   "metadata": {},
   "outputs": [],
   "source": [
    "\"\"\"What is the difference between string and variable?\"\"\"\n",
    "\n",
    "String: String is a collection of characters. It is a default data type in python. \n",
    "Variable: Variable is a name given to a data, collection of data. A variable can be assigned to any kind of data type( int, float, string, tuples,list, set etc.) value. Variable takes the the data type of assigned value.\n",
    "String is default data type in python and, is constructed using characters in (‘ ‘) or (“ “) brackets in python. \n"
   ]
  },
  {
   "cell_type": "code",
   "execution_count": null,
   "id": "1592f371",
   "metadata": {},
   "outputs": [],
   "source": [
    "\"\"\"3. Describe three different data types.\"\"\"\n",
    "Int: Integer value data type. Ex. 1,2,4\n",
    "Str: String data type. Ex. “Hello”, “Rajesh”\n",
    "List: Collection of any kind of data types in ordered manner. Ex. [“Ram”, 1, “B”,5]\n",
    "Tuple:Collection of any kind of immutable data types in ordered manner. Ex: (\"a\",\"b\",\"c\",1)\n",
    "Dictionary:Collection of any kind of data types in key value pair manner in inordered way...repetition allowed. {\"a\":1,\"b\":3,\"T\":5, \"a\":\"L\"}\n",
    "Set: Collection of any kind of data types in key value pair manner in inordered way...only unique values. {\"a\":1,\"b\":3,\"T\":5, \"O\":\"L\"}\n"
   ]
  },
  {
   "cell_type": "code",
   "execution_count": null,
   "id": "e243801a",
   "metadata": {},
   "outputs": [],
   "source": [
    "\n",
    "\"\"\"4. What is an expression made up of? What do all expressions do?\n",
    "\"\"\"\n",
    "Expressions are made of variables, operators and they perform the action as defined in the expression.\n",
    "Ex. Sum=X+Y is an expression. If x=5, Y=6 then sum=11. Expression will yield 11 as result as end value.  \n"
   ]
  },
  {
   "cell_type": "code",
   "execution_count": null,
   "id": "460000b4",
   "metadata": {},
   "outputs": [],
   "source": [
    "\"\"\"5. This assignment statements, like spam = 10. What is the difference between an expression and a statement?\n",
    "\"\"\"\n",
    "Every line of code in python can be termed as a statement like assignment statement, logical statement, mathematical statement etc.\n",
    "Basically everything that a python interpreter has to interpret but not provide an output for each mandatorily, however, an expression at the end will always return a value. \n",
    "An expression can be constructed of multiple statements.\n",
    "\n",
    "\n"
   ]
  },
  {
   "cell_type": "code",
   "execution_count": null,
   "id": "2ba5c6f7",
   "metadata": {},
   "outputs": [],
   "source": [
    "\"\"\"6. After running the following code, what does the variable bacon contain?\"\"\"\n",
    "\n",
    "bacon = 22\n",
    "bacon + 1\n",
    "bacon will become- 23"
   ]
  },
  {
   "cell_type": "code",
   "execution_count": null,
   "id": "50f8a7b9",
   "metadata": {},
   "outputs": [],
   "source": [
    "\"\"\"7. What should the values of the following two terms be?\"\"\"\n",
    "\n",
    "'spam' + 'spamspam' - in a print statement it will concatinate it and output should be: ‘spamspamspam’\n",
    "'spam' * 3- will throw errors as mathematical operations can not be performed on string data types directly. \n"
   ]
  },
  {
   "cell_type": "code",
   "execution_count": null,
   "id": "6c48e2f2",
   "metadata": {},
   "outputs": [],
   "source": [
    "\"\"\"8. Why is eggs a valid variable name while 100 is invalid?\n",
    "\"\"\"\n",
    "\n",
    "Eggs is a valid variable as it does not have any predefined data types and any kind of data type value can be\n",
    "assigned to it like int, str, float, list etc.  however, 100 is an integer data type by default and if we consider it a variable then it can not start with a digit in python.\n",
    "\n"
   ]
  },
  {
   "cell_type": "code",
   "execution_count": null,
   "id": "a7a0c65b",
   "metadata": {},
   "outputs": [],
   "source": [
    "\"\"\"9. What three functions can be used to get the integer, floating-point number, or string version of a value?\n",
    "\"\"\"\n",
    "1.int() - To get the integer version value\n",
    "2.float() - To get float version of the value\n",
    "3.str() - To get the string version of the value"
   ]
  },
  {
   "cell_type": "code",
   "execution_count": 6,
   "id": "dda443b7",
   "metadata": {},
   "outputs": [
    {
     "name": "stdout",
     "output_type": "stream",
     "text": [
      "I have eaten 99 burritos.\n",
      "I have eaten 99 burritos.\n"
     ]
    }
   ],
   "source": [
    "\"\"\"10. Why does this expression cause an error? How can you fix it?\n",
    "\"\"\"\n",
    "#'I have eaten ' + 99 + ' burritos.'\n",
    "\n",
    "#Solution:\n",
    "    \n",
    "# Only string data type can be concatenated. To correct above, we need to make 99 as string value. \n",
    "#Ex: \n",
    "print(\"I have eaten \" +  \"99\" + \" burritos.\")\n",
    "\n",
    "#or\n",
    "\n",
    "print(\"I have eaten \" +  str(99) + \" burritos.\")\n"
   ]
  },
  {
   "cell_type": "code",
   "execution_count": null,
   "id": "7b60b75a",
   "metadata": {},
   "outputs": [],
   "source": []
  }
 ],
 "metadata": {
  "kernelspec": {
   "display_name": "Python 3 (ipykernel)",
   "language": "python",
   "name": "python3"
  },
  "language_info": {
   "codemirror_mode": {
    "name": "ipython",
    "version": 3
   },
   "file_extension": ".py",
   "mimetype": "text/x-python",
   "name": "python",
   "nbconvert_exporter": "python",
   "pygments_lexer": "ipython3",
   "version": "3.10.9"
  },
  "toc": {
   "base_numbering": 1,
   "nav_menu": {},
   "number_sections": true,
   "sideBar": true,
   "skip_h1_title": false,
   "title_cell": "Table of Contents",
   "title_sidebar": "Contents",
   "toc_cell": false,
   "toc_position": {},
   "toc_section_display": true,
   "toc_window_display": false
  }
 },
 "nbformat": 4,
 "nbformat_minor": 5
}
